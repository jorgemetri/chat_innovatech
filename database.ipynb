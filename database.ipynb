{
 "cells": [
  {
   "cell_type": "code",
   "execution_count": 3,
   "id": "76ab2840",
   "metadata": {},
   "outputs": [],
   "source": [
    "import pandas as pd\n",
    "import gspread\n",
    "from oauth2client.service_account import ServiceAccountCredentials\n"
   ]
  },
  {
   "cell_type": "code",
   "execution_count": 21,
   "id": "65f49dfc",
   "metadata": {},
   "outputs": [
    {
     "name": "stdout",
     "output_type": "stream",
     "text": [
      "<gspread.client.Client object at 0x000001F9BB435450>\n",
      "[]\n"
     ]
    }
   ],
   "source": [
    "filename = \"ardent-curve-460514-b2-b8cde525c0dc.json\"\n",
    "SCOPES = [\n",
    "    \"https://spreadsheets.google.com/feeds\",\n",
    "    \"https://www.googleapis.com/auth/drive\",\n",
    "]\n",
    "\n",
    "creds = ServiceAccountCredentials.from_json_keyfile_name(\n",
    "    filename=filename,\n",
    "    scopes=SCOPES\n",
    ")\n",
    "\n",
    "client = gspread.authorize(creds)\n",
    "print(client)\n",
    "planilha_completa = client.open(title=\"BaseDadosChat\",folder_id=\"1GNJ9tm1cJsAZJMi9sy-vakdmBoJigkMI\",)\n",
    "\n",
    "planilha = planilha_completa.get_worksheet(0)\n",
    "dados= planilha.get_all_records()\n",
    "print(dados)"
   ]
  }
 ],
 "metadata": {
  "kernelspec": {
   "display_name": ".venv",
   "language": "python",
   "name": "python3"
  },
  "language_info": {
   "codemirror_mode": {
    "name": "ipython",
    "version": 3
   },
   "file_extension": ".py",
   "mimetype": "text/x-python",
   "name": "python",
   "nbconvert_exporter": "python",
   "pygments_lexer": "ipython3",
   "version": "3.13.2"
  }
 },
 "nbformat": 4,
 "nbformat_minor": 5
}
