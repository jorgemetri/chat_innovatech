{
 "cells": [
  {
   "cell_type": "markdown",
   "id": "18a8b5d8",
   "metadata": {},
   "source": [
    "## Build a basic LLM chat app\n"
   ]
  },
  {
   "cell_type": "markdown",
   "id": "26d2e197",
   "metadata": {},
   "source": [
    "Vamos começar com alguns elementos importantes de chat:\n",
    "- st.chat_message.\n",
    "- st.chat_input."
   ]
  },
  {
   "cell_type": "markdown",
   "id": "eef05296",
   "metadata": {},
   "source": [
    "Começaremos construindo três diferentes aplicações, cada uma aumentando o nível de complexidade e funcionalidade."
   ]
  },
  {
   "cell_type": "markdown",
   "id": "602e7fbf",
   "metadata": {},
   "source": [
    "- 1. Chat que espelha as entradas do usuário e também entender como o session_state pode ser usado para armazenar o chat_history.\n",
    "- 2. Como construit um simple chat com streaming.\n",
    "- 3. Por fim um chat como GPT que alavanca o session state para lembrar do contexto conversacional."
   ]
  },
  {
   "cell_type": "markdown",
   "id": "45ffafb1",
   "metadata": {},
   "source": [
    "## 1 : Chat que espelha entradas do usuário"
   ]
  },
  {
   "cell_type": "markdown",
   "id": "0b29ab70",
   "metadata": {},
   "source": [
    "- st.chat_message : \n",
    "Container utilizado para criar um chat_message onde pode ser usado para exibir inputs do usuário. Esse pode conter streamlit elementos.\n",
    "- st.chat_input: Serve para o usuário inserir a mensagem.e"
   ]
  },
  {
   "cell_type": "code",
   "execution_count": null,
   "id": "abf78a47",
   "metadata": {},
   "outputs": [],
   "source": [
    "import streamlit as st\n",
    "\n",
    "with st.chat_message(\"user\"):\n",
    "    st.write(\"Hello 👋\")"
   ]
  },
  {
   "cell_type": "markdown",
   "id": "e533669f",
   "metadata": {},
   "source": [
    "primeiro parâmetro pode ser: \"user\" ou \"assistante\" define o autor da mensagem. Você pode exibir quantos elementos streamlit voce desejar."
   ]
  },
  {
   "cell_type": "code",
   "execution_count": null,
   "id": "0f9bf281",
   "metadata": {},
   "outputs": [],
   "source": [
    "import streamlit as st\n",
    "\n",
    "prompt = st.chat_input(\"Say something\")\n",
    "if prompt:\n",
    "    st.write(f\"User has sent the following prompt: {prompt}\")"
   ]
  },
  {
   "cell_type": "markdown",
   "id": "9580ccdf",
   "metadata": {},
   "source": [
    "O código acima exibir um chat_input_widget onde o usuário pode digitar o retorno e o texto que o usuário digitou.(None caso nada seja digitado)"
   ]
  },
  {
   "cell_type": "markdown",
   "id": "91ea91e9",
   "metadata": {},
   "source": [
    "### Construind o mirrors your input"
   ]
  },
  {
   "cell_type": "code",
   "execution_count": null,
   "id": "99a6bef4",
   "metadata": {},
   "outputs": [],
   "source": []
  }
 ],
 "metadata": {
  "kernelspec": {
   "display_name": ".venv",
   "language": "python",
   "name": "python3"
  },
  "language_info": {
   "name": "python",
   "version": "3.13.2"
  }
 },
 "nbformat": 4,
 "nbformat_minor": 5
}
